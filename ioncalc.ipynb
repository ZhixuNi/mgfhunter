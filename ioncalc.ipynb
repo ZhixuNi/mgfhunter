{
 "metadata": {
  "name": "ioncalc.ipynb"
 },
 "nbformat": 3,
 "nbformat_minor": 0,
 "worksheets": [
  {
   "cells": [
    {
     "cell_type": "code",
     "collapsed": false,
     "input": [
      "from lib.IONcalc import IONmass,PRmass\n",
      "\n",
      "MASS = 208.0\n",
      "MASStype = 'NL'\n",
      "pepMASS = 579.0\n",
      "prCHG=3\n",
      "ionCHG=2\n",
      "\n",
      "ionMZ = IONmass(MASS, MASStype, pepMASS, prCHG, ionCHG)\n",
      "print ionMZ"
     ],
     "language": "python",
     "metadata": {},
     "outputs": [
      {
       "output_type": "stream",
       "stream": "stdout",
       "text": [
        "763.996085\n"
       ]
      }
     ],
     "prompt_number": 1
    },
    {
     "cell_type": "code",
     "collapsed": false,
     "input": [
      "MASS = 275\n",
      "MASStype = 'F'\n",
      "ionMZ = IONmass(MASS, MASStype)\n",
      "print ionMZ"
     ],
     "language": "python",
     "metadata": {},
     "outputs": [
      {
       "output_type": "stream",
       "stream": "stdout",
       "text": [
        "276.00783\n"
       ]
      }
     ],
     "prompt_number": 4
    },
    {
     "cell_type": "code",
     "collapsed": false,
     "input": [
      "charge = 1\n",
      "OriMASS = PRmass(pepMASS, charge)\n",
      "print OriMASS"
     ],
     "language": "python",
     "metadata": {},
     "outputs": [
      {
       "output_type": "stream",
       "stream": "stdout",
       "text": [
        "577.99217\n"
       ]
      }
     ],
     "prompt_number": 5
    },
    {
     "cell_type": "code",
     "collapsed": false,
     "input": [
      "pepMASS = 579.0\n",
      "MASS = 275.12\n",
      "MASStype = 'FRAG'\n",
      "charge = 1\n",
      "\n",
      "ionMZ = IONmass( MASS, MASStype,pepMASS, charge)\n",
      "print ionMZ"
     ],
     "language": "python",
     "metadata": {},
     "outputs": [
      {
       "output_type": "stream",
       "stream": "stdout",
       "text": [
        "276.12783\n"
       ]
      }
     ],
     "prompt_number": 7
    },
    {
     "cell_type": "code",
     "collapsed": false,
     "input": [
      "from lib.IONcfg import CFGparser\n",
      "\n",
      "cfgNAME = 'ionCFG.csv'\n",
      "\n",
      "cfg = CFGparser(cfgNAME)\n",
      "print 'pass'"
     ],
     "language": "python",
     "metadata": {},
     "outputs": [
      {
       "output_type": "stream",
       "stream": "stdout",
       "text": [
        "pass\n"
       ]
      }
     ],
     "prompt_number": 1
    },
    {
     "cell_type": "code",
     "collapsed": false,
     "input": [
      "cfg_df = cfg.CFGread()\n",
      "\n",
      "cfg_df"
     ],
     "language": "python",
     "metadata": {},
     "outputs": [
      {
       "output_type": "stream",
       "stream": "stdout",
       "text": [
        "Use config file:  ionCFG.csv\n"
       ]
      },
      {
       "html": [
        "<div style=\"max-height:1000px;max-width:1500px;overflow:auto;\">\n",
        "<table border=\"1\" class=\"dataframe\">\n",
        "  <thead>\n",
        "    <tr style=\"text-align: right;\">\n",
        "      <th></th>\n",
        "      <th>ionName</th>\n",
        "      <th>ionMASS</th>\n",
        "      <th>ionTYPE</th>\n",
        "      <th>ionCHG</th>\n",
        "      <th>ionScore</th>\n",
        "      <th>RT1</th>\n",
        "      <th>RT2</th>\n",
        "    </tr>\n",
        "  </thead>\n",
        "  <tbody>\n",
        "    <tr>\n",
        "      <th>0</th>\n",
        "      <td>  a</td>\n",
        "      <td> 227.0854</td>\n",
        "      <td> F</td>\n",
        "      <td> 1</td>\n",
        "      <td> 38</td>\n",
        "      <td> 0.01</td>\n",
        "      <td> 60</td>\n",
        "    </tr>\n",
        "    <tr>\n",
        "      <th>1</th>\n",
        "      <td>  b</td>\n",
        "      <td> 332.1387</td>\n",
        "      <td> F</td>\n",
        "      <td> 1</td>\n",
        "      <td> 38</td>\n",
        "      <td> 0.01</td>\n",
        "      <td> 60</td>\n",
        "    </tr>\n",
        "    <tr>\n",
        "      <th>2</th>\n",
        "      <td>  c</td>\n",
        "      <td> 299.1127</td>\n",
        "      <td> F</td>\n",
        "      <td> 1</td>\n",
        "      <td> 12</td>\n",
        "      <td> 0.01</td>\n",
        "      <td> 60</td>\n",
        "    </tr>\n",
        "    <tr>\n",
        "      <th>3</th>\n",
        "      <td>  d</td>\n",
        "      <td> 259.1223</td>\n",
        "      <td> F</td>\n",
        "      <td> 1</td>\n",
        "      <td> 12</td>\n",
        "      <td> 0.01</td>\n",
        "      <td> 60</td>\n",
        "    </tr>\n",
        "    <tr>\n",
        "      <th>4</th>\n",
        "      <td> nl</td>\n",
        "      <td> 331.1314</td>\n",
        "      <td> N</td>\n",
        "      <td> 1</td>\n",
        "      <td> 12</td>\n",
        "      <td> 0.01</td>\n",
        "      <td> 60</td>\n",
        "    </tr>\n",
        "  </tbody>\n",
        "</table>\n",
        "</div>"
       ],
       "metadata": {},
       "output_type": "pyout",
       "prompt_number": 2,
       "text": [
        "  ionName   ionMASS ionTYPE  ionCHG  ionScore   RT1  RT2\n",
        "0       a  227.0854       F       1        38  0.01   60\n",
        "1       b  332.1387       F       1        38  0.01   60\n",
        "2       c  299.1127       F       1        12  0.01   60\n",
        "3       d  259.1223       F       1        12  0.01   60\n",
        "4      nl  331.1314       N       1        12  0.01   60"
       ]
      }
     ],
     "prompt_number": 2
    },
    {
     "cell_type": "code",
     "collapsed": false,
     "input": [
      "TYPE = 'F'\n",
      "cfg_df_N = cfg.CFGtype(TYPE)\n",
      "cfg_df_N"
     ],
     "language": "python",
     "metadata": {},
     "outputs": [
      {
       "output_type": "stream",
       "stream": "stdout",
       "text": [
        "Use config file:  ionCFG.csv\n"
       ]
      },
      {
       "html": [
        "<div style=\"max-height:1000px;max-width:1500px;overflow:auto;\">\n",
        "<table border=\"1\" class=\"dataframe\">\n",
        "  <thead>\n",
        "    <tr style=\"text-align: right;\">\n",
        "      <th></th>\n",
        "      <th>ionName</th>\n",
        "      <th>ionMASS</th>\n",
        "      <th>ionTYPE</th>\n",
        "      <th>ionCHG</th>\n",
        "      <th>ionScore</th>\n",
        "      <th>RT1</th>\n",
        "      <th>RT2</th>\n",
        "    </tr>\n",
        "  </thead>\n",
        "  <tbody>\n",
        "    <tr>\n",
        "      <th>0</th>\n",
        "      <td> a</td>\n",
        "      <td> 227.0854</td>\n",
        "      <td> F</td>\n",
        "      <td> 1</td>\n",
        "      <td> 38</td>\n",
        "      <td> 0.01</td>\n",
        "      <td> 60</td>\n",
        "    </tr>\n",
        "    <tr>\n",
        "      <th>1</th>\n",
        "      <td> b</td>\n",
        "      <td> 332.1387</td>\n",
        "      <td> F</td>\n",
        "      <td> 1</td>\n",
        "      <td> 38</td>\n",
        "      <td> 0.01</td>\n",
        "      <td> 60</td>\n",
        "    </tr>\n",
        "    <tr>\n",
        "      <th>2</th>\n",
        "      <td> c</td>\n",
        "      <td> 299.1127</td>\n",
        "      <td> F</td>\n",
        "      <td> 1</td>\n",
        "      <td> 12</td>\n",
        "      <td> 0.01</td>\n",
        "      <td> 60</td>\n",
        "    </tr>\n",
        "    <tr>\n",
        "      <th>3</th>\n",
        "      <td> d</td>\n",
        "      <td> 259.1223</td>\n",
        "      <td> F</td>\n",
        "      <td> 1</td>\n",
        "      <td> 12</td>\n",
        "      <td> 0.01</td>\n",
        "      <td> 60</td>\n",
        "    </tr>\n",
        "  </tbody>\n",
        "</table>\n",
        "</div>"
       ],
       "metadata": {},
       "output_type": "pyout",
       "prompt_number": 3,
       "text": [
        "  ionName   ionMASS ionTYPE  ionCHG  ionScore   RT1  RT2\n",
        "0       a  227.0854       F       1        38  0.01   60\n",
        "1       b  332.1387       F       1        38  0.01   60\n",
        "2       c  299.1127       F       1        12  0.01   60\n",
        "3       d  259.1223       F       1        12  0.01   60"
       ]
      }
     ],
     "prompt_number": 3
    },
    {
     "cell_type": "code",
     "collapsed": false,
     "input": [
      "ionScore = 40\n",
      "ionScore2 = 17.5\n",
      "cfg_df_S = cfg.CFGscore(ionScore,ionScore2)\n",
      "cfg_df_S"
     ],
     "language": "python",
     "metadata": {},
     "outputs": [
      {
       "output_type": "stream",
       "stream": "stdout",
       "text": [
        "Use config file:  ionCFG.csv\n"
       ]
      },
      {
       "html": [
        "<div style=\"max-height:1000px;max-width:1500px;overflow:auto;\">\n",
        "<table border=\"1\" class=\"dataframe\">\n",
        "  <thead>\n",
        "    <tr style=\"text-align: right;\">\n",
        "      <th></th>\n",
        "      <th>ionName</th>\n",
        "      <th>ionMASS</th>\n",
        "      <th>ionTYPE</th>\n",
        "      <th>ionCHG</th>\n",
        "      <th>ionScore</th>\n",
        "    </tr>\n",
        "  </thead>\n",
        "  <tbody>\n",
        "    <tr>\n",
        "      <th>0</th>\n",
        "      <td> a</td>\n",
        "      <td> 227.0854</td>\n",
        "      <td> F</td>\n",
        "      <td> 1</td>\n",
        "      <td> 32</td>\n",
        "    </tr>\n",
        "    <tr>\n",
        "      <th>1</th>\n",
        "      <td> b</td>\n",
        "      <td> 332.1387</td>\n",
        "      <td> F</td>\n",
        "      <td> 1</td>\n",
        "      <td> 32</td>\n",
        "    </tr>\n",
        "  </tbody>\n",
        "</table>\n",
        "</div>"
       ],
       "metadata": {},
       "output_type": "pyout",
       "prompt_number": 44,
       "text": [
        "  ionName   ionMASS ionTYPE  ionCHG  ionScore\n",
        "0       a  227.0854       F       1        32\n",
        "1       b  332.1387       F       1        32"
       ]
      }
     ],
     "prompt_number": 44
    },
    {
     "cell_type": "code",
     "collapsed": false,
     "input": [
      "TYPE = 'N'\n",
      "ionScoreB = 19.2\n",
      "ionScoreA = 7.5\n",
      "\n",
      "temp_query = str(ionScoreA) + r'<= ionScore<=' + str(ionScoreB) + ' and ' + 'ionTYPE==\\\"'+ TYPE + '\\\"' \n",
      "\n",
      "print temp_query\n",
      "cfg_df_query = cfg_df.query(temp_query)\n",
      "cfg_df_query"
     ],
     "language": "python",
     "metadata": {},
     "outputs": [
      {
       "output_type": "stream",
       "stream": "stdout",
       "text": [
        "7.5<= ionScore<=19.2 and ionTYPE==\"N\"\n"
       ]
      },
      {
       "html": [
        "<div style=\"max-height:1000px;max-width:1500px;overflow:auto;\">\n",
        "<table border=\"1\" class=\"dataframe\">\n",
        "  <thead>\n",
        "    <tr style=\"text-align: right;\">\n",
        "      <th></th>\n",
        "      <th>ionName</th>\n",
        "      <th>ionMASS</th>\n",
        "      <th>ionTYPE</th>\n",
        "      <th>ionCHG</th>\n",
        "      <th>ionScore</th>\n",
        "    </tr>\n",
        "  </thead>\n",
        "  <tbody>\n",
        "    <tr>\n",
        "      <th>4</th>\n",
        "      <td> nl</td>\n",
        "      <td> 331.1314</td>\n",
        "      <td> N</td>\n",
        "      <td> 1</td>\n",
        "      <td> 12</td>\n",
        "    </tr>\n",
        "  </tbody>\n",
        "</table>\n",
        "</div>"
       ],
       "metadata": {},
       "output_type": "pyout",
       "prompt_number": 45,
       "text": [
        "  ionName   ionMASS ionTYPE  ionCHG  ionScore\n",
        "4      nl  331.1314       N       1        12"
       ]
      }
     ],
     "prompt_number": 45
    },
    {
     "cell_type": "code",
     "collapsed": false,
     "input": [
      "#TYPE = 'F'\n",
      "Score = 10\n",
      "ionScore2 = 7.5\n",
      "cfg_df_q = cfg.CFGquery(ionScore=Score)\n",
      "cfg_df_q"
     ],
     "language": "python",
     "metadata": {},
     "outputs": [
      {
       "output_type": "stream",
       "stream": "stdout",
       "text": [
        "Use config file:  ionCFG.csv\n"
       ]
      },
      {
       "html": [
        "<div style=\"max-height:1000px;max-width:1500px;overflow:auto;\">\n",
        "<table border=\"1\" class=\"dataframe\">\n",
        "  <thead>\n",
        "    <tr style=\"text-align: right;\">\n",
        "      <th></th>\n",
        "      <th>ionName</th>\n",
        "      <th>ionMASS</th>\n",
        "      <th>ionTYPE</th>\n",
        "      <th>ionCHG</th>\n",
        "      <th>ionScore</th>\n",
        "    </tr>\n",
        "  </thead>\n",
        "  <tbody>\n",
        "    <tr>\n",
        "      <th>0</th>\n",
        "      <td>  a</td>\n",
        "      <td> 227.0854</td>\n",
        "      <td> F</td>\n",
        "      <td> 1</td>\n",
        "      <td> 32</td>\n",
        "    </tr>\n",
        "    <tr>\n",
        "      <th>1</th>\n",
        "      <td>  b</td>\n",
        "      <td> 332.1387</td>\n",
        "      <td> F</td>\n",
        "      <td> 1</td>\n",
        "      <td> 32</td>\n",
        "    </tr>\n",
        "    <tr>\n",
        "      <th>2</th>\n",
        "      <td>  c</td>\n",
        "      <td> 299.1127</td>\n",
        "      <td> F</td>\n",
        "      <td> 1</td>\n",
        "      <td> 12</td>\n",
        "    </tr>\n",
        "    <tr>\n",
        "      <th>3</th>\n",
        "      <td>  d</td>\n",
        "      <td> 259.1223</td>\n",
        "      <td> F</td>\n",
        "      <td> 1</td>\n",
        "      <td> 12</td>\n",
        "    </tr>\n",
        "    <tr>\n",
        "      <th>4</th>\n",
        "      <td> nl</td>\n",
        "      <td> 331.1314</td>\n",
        "      <td> N</td>\n",
        "      <td> 1</td>\n",
        "      <td> 12</td>\n",
        "    </tr>\n",
        "  </tbody>\n",
        "</table>\n",
        "</div>"
       ],
       "metadata": {},
       "output_type": "pyout",
       "prompt_number": 47,
       "text": [
        "  ionName   ionMASS ionTYPE  ionCHG  ionScore\n",
        "0       a  227.0854       F       1        32\n",
        "1       b  332.1387       F       1        32\n",
        "2       c  299.1127       F       1        12\n",
        "3       d  259.1223       F       1        12\n",
        "4      nl  331.1314       N       1        12"
       ]
      }
     ],
     "prompt_number": 47
    },
    {
     "cell_type": "code",
     "collapsed": false,
     "input": [
      "for ion in cfg_df_q['ionTYPE']:\n",
      "    print 'ion',ion\n",
      "    x = cfg_df_q[cfg_df_q['ionTYPE']==ion]\n",
      "    \n",
      "    print 'x'\n",
      "    print x\n",
      "    y = x.iloc[:]['ionMASS'].tolist()\n",
      "    print 'y',y\n",
      "    y"
     ],
     "language": "python",
     "metadata": {},
     "outputs": []
    },
    {
     "cell_type": "code",
     "collapsed": false,
     "input": [
      "y"
     ],
     "language": "python",
     "metadata": {},
     "outputs": []
    }
   ],
   "metadata": {}
  }
 ]
}